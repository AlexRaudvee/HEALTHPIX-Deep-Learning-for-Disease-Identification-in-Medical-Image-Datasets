{
 "cells": [
  {
   "cell_type": "markdown",
   "id": "2d1eda1292a37fa2",
   "metadata": {
    "collapsed": false
   },
   "source": [
    "## EDA"
   ]
  },
  {
   "cell_type": "code",
   "execution_count": 2,
   "metadata": {},
   "outputs": [],
   "source": [
    "# imports \n",
    "import numpy as np\n",
    "import matplotlib.pyplot as plt\n",
    "import cv2 "
   ]
  },
  {
   "cell_type": "code",
   "execution_count": 5,
   "id": "21d420b4da21f3da",
   "metadata": {
    "ExecuteTime": {
     "end_time": "2024-02-27T18:21:25.181671Z",
     "start_time": "2024-02-27T18:21:17.559454Z"
    },
    "collapsed": false
   },
   "outputs": [
    {
     "ename": "FileNotFoundError",
     "evalue": "[Errno 2] No such file or directory: '/Users/cris/PycharmProjects/JBG040-Group15/data/X_train.npy'",
     "output_type": "error",
     "traceback": [
      "\u001b[0;31m---------------------------------------------------------------------------\u001b[0m",
      "\u001b[0;31mFileNotFoundError\u001b[0m                         Traceback (most recent call last)",
      "\u001b[1;32m/Users/alexraudvee/Desktop/TU_e/year_2/Q3Y2_Data_challenge_1/JBG040-Group15/Data_Exploration/data_explore.ipynb Ячейка 3\u001b[0m line \u001b[0;36m8\n\u001b[1;32m     <a href='vscode-notebook-cell:/Users/alexraudvee/Desktop/TU_e/year_2/Q3Y2_Data_challenge_1/JBG040-Group15/Data_Exploration/data_explore.ipynb#W1sZmlsZQ%3D%3D?line=80'>81</a>\u001b[0m     analyze_variance_within_classes(x_train, y_train)\n\u001b[1;32m     <a href='vscode-notebook-cell:/Users/alexraudvee/Desktop/TU_e/year_2/Q3Y2_Data_challenge_1/JBG040-Group15/Data_Exploration/data_explore.ipynb#W1sZmlsZQ%3D%3D?line=82'>83</a>\u001b[0m \u001b[39mif\u001b[39;00m \u001b[39m__name__\u001b[39m \u001b[39m==\u001b[39m \u001b[39m\"\u001b[39m\u001b[39m__main__\u001b[39m\u001b[39m\"\u001b[39m:\n\u001b[0;32m---> <a href='vscode-notebook-cell:/Users/alexraudvee/Desktop/TU_e/year_2/Q3Y2_Data_challenge_1/JBG040-Group15/Data_Exploration/data_explore.ipynb#W1sZmlsZQ%3D%3D?line=83'>84</a>\u001b[0m     main()\n",
      "\u001b[1;32m/Users/alexraudvee/Desktop/TU_e/year_2/Q3Y2_Data_challenge_1/JBG040-Group15/Data_Exploration/data_explore.ipynb Ячейка 3\u001b[0m line \u001b[0;36m7\n\u001b[1;32m     <a href='vscode-notebook-cell:/Users/alexraudvee/Desktop/TU_e/year_2/Q3Y2_Data_challenge_1/JBG040-Group15/Data_Exploration/data_explore.ipynb#W1sZmlsZQ%3D%3D?line=68'>69</a>\u001b[0m y_train_path \u001b[39m=\u001b[39m \u001b[39m'\u001b[39m\u001b[39m/Users/cris/PycharmProjects/JBG040-Group15/data/Y_train.npy\u001b[39m\u001b[39m'\u001b[39m\n\u001b[1;32m     <a href='vscode-notebook-cell:/Users/alexraudvee/Desktop/TU_e/year_2/Q3Y2_Data_challenge_1/JBG040-Group15/Data_Exploration/data_explore.ipynb#W1sZmlsZQ%3D%3D?line=70'>71</a>\u001b[0m class_names \u001b[39m=\u001b[39m [\u001b[39m'\u001b[39m\u001b[39mAtelectasis\u001b[39m\u001b[39m'\u001b[39m, \u001b[39m'\u001b[39m\u001b[39mEffusion\u001b[39m\u001b[39m'\u001b[39m, \u001b[39m'\u001b[39m\u001b[39mInfiltration\u001b[39m\u001b[39m'\u001b[39m, \u001b[39m'\u001b[39m\u001b[39mHealthy\u001b[39m\u001b[39m'\u001b[39m, \u001b[39m'\u001b[39m\u001b[39mNodule\u001b[39m\u001b[39m'\u001b[39m, \u001b[39m'\u001b[39m\u001b[39mPneumothorax\u001b[39m\u001b[39m'\u001b[39m]\n\u001b[0;32m---> <a href='vscode-notebook-cell:/Users/alexraudvee/Desktop/TU_e/year_2/Q3Y2_Data_challenge_1/JBG040-Group15/Data_Exploration/data_explore.ipynb#W1sZmlsZQ%3D%3D?line=72'>73</a>\u001b[0m x_train, y_train \u001b[39m=\u001b[39m load_data(x_train_path, y_train_path)\n\u001b[1;32m     <a href='vscode-notebook-cell:/Users/alexraudvee/Desktop/TU_e/year_2/Q3Y2_Data_challenge_1/JBG040-Group15/Data_Exploration/data_explore.ipynb#W1sZmlsZQ%3D%3D?line=74'>75</a>\u001b[0m plot_sample_images_by_class(x_train, y_train, class_names)\n\u001b[1;32m     <a href='vscode-notebook-cell:/Users/alexraudvee/Desktop/TU_e/year_2/Q3Y2_Data_challenge_1/JBG040-Group15/Data_Exploration/data_explore.ipynb#W1sZmlsZQ%3D%3D?line=75'>76</a>\u001b[0m plot_class_distribution(y_train, class_names)\n",
      "\u001b[1;32m/Users/alexraudvee/Desktop/TU_e/year_2/Q3Y2_Data_challenge_1/JBG040-Group15/Data_Exploration/data_explore.ipynb Ячейка 3\u001b[0m line \u001b[0;36m3\n\u001b[1;32m      <a href='vscode-notebook-cell:/Users/alexraudvee/Desktop/TU_e/year_2/Q3Y2_Data_challenge_1/JBG040-Group15/Data_Exploration/data_explore.ipynb#W1sZmlsZQ%3D%3D?line=1'>2</a>\u001b[0m \u001b[39mdef\u001b[39;00m \u001b[39mload_data\u001b[39m(x_path, y_path):\n\u001b[0;32m----> <a href='vscode-notebook-cell:/Users/alexraudvee/Desktop/TU_e/year_2/Q3Y2_Data_challenge_1/JBG040-Group15/Data_Exploration/data_explore.ipynb#W1sZmlsZQ%3D%3D?line=2'>3</a>\u001b[0m     x \u001b[39m=\u001b[39m np\u001b[39m.\u001b[39;49mload(x_path)\n\u001b[1;32m      <a href='vscode-notebook-cell:/Users/alexraudvee/Desktop/TU_e/year_2/Q3Y2_Data_challenge_1/JBG040-Group15/Data_Exploration/data_explore.ipynb#W1sZmlsZQ%3D%3D?line=3'>4</a>\u001b[0m     y \u001b[39m=\u001b[39m np\u001b[39m.\u001b[39mload(y_path)\n\u001b[1;32m      <a href='vscode-notebook-cell:/Users/alexraudvee/Desktop/TU_e/year_2/Q3Y2_Data_challenge_1/JBG040-Group15/Data_Exploration/data_explore.ipynb#W1sZmlsZQ%3D%3D?line=4'>5</a>\u001b[0m     \u001b[39mreturn\u001b[39;00m x, y\n",
      "File \u001b[0;32m~/Desktop/TU_e/year_2/Q3Y2_Data_challenge_1/JBG040-Group15/.venv/lib/python3.10/site-packages/numpy/lib/npyio.py:405\u001b[0m, in \u001b[0;36mload\u001b[0;34m(file, mmap_mode, allow_pickle, fix_imports, encoding, max_header_size)\u001b[0m\n\u001b[1;32m    403\u001b[0m     own_fid \u001b[39m=\u001b[39m \u001b[39mFalse\u001b[39;00m\n\u001b[1;32m    404\u001b[0m \u001b[39melse\u001b[39;00m:\n\u001b[0;32m--> 405\u001b[0m     fid \u001b[39m=\u001b[39m stack\u001b[39m.\u001b[39menter_context(\u001b[39mopen\u001b[39;49m(os_fspath(file), \u001b[39m\"\u001b[39;49m\u001b[39mrb\u001b[39;49m\u001b[39m\"\u001b[39;49m))\n\u001b[1;32m    406\u001b[0m     own_fid \u001b[39m=\u001b[39m \u001b[39mTrue\u001b[39;00m\n\u001b[1;32m    408\u001b[0m \u001b[39m# Code to distinguish from NumPy binary files and pickles.\u001b[39;00m\n",
      "\u001b[0;31mFileNotFoundError\u001b[0m: [Errno 2] No such file or directory: '/Users/cris/PycharmProjects/JBG040-Group15/data/X_train.npy'"
     ]
    }
   ],
   "source": [
    "# Load dataset\n",
    "def load_data(x_path, y_path):\n",
    "    x = np.load(x_path)\n",
    "    y = np.load(y_path)\n",
    "    return x, y\n",
    "\n",
    "# Modified visual inspection of images to ensure each represents a different class\n",
    "def plot_sample_images_by_class(x, y, class_names):\n",
    "    fig, axes = plt.subplots(2, 3, figsize=(12, 8))  # Adjusted layout\n",
    "    used_classes = []\n",
    "    for i, ax in enumerate(axes.flat):\n",
    "        while True:\n",
    "            idx = np.random.randint(0, len(y))\n",
    "            if y[idx] not in used_classes:\n",
    "                used_classes.append(y[idx])\n",
    "                break\n",
    "        ax.imshow(x[idx][0], cmap='gray')\n",
    "        ax.set_title(f\"Class: {class_names[y[idx]]}\")\n",
    "        ax.axis('off')\n",
    "    plt.tight_layout()\n",
    "    plt.show()\n",
    "\n",
    "# Function to plot histogram of pixel intensity\n",
    "def plot_pixel_intensity_histogram(x):\n",
    "    plt.hist(x.ravel(), bins=256, color='orange', alpha=0.7)\n",
    "    plt.title('Histogram of Pixel Intensities')\n",
    "    plt.xlabel('Pixel Intensity')\n",
    "    plt.ylabel('Frequency')\n",
    "    plt.show()\n",
    "\n",
    "# Explaining the importance of pixel intensity histogram in EDA\n",
    "def explain_histogram_importance():\n",
    "    print(\"The histogram of pixel intensities helps in understanding the distribution of pixel values across the images. \"\n",
    "          \"It can indicate the presence of contrast variations, brightness, and inform preprocessing steps like normalization or contrast adjustment.\")\n",
    "\n",
    "# Print number of samples per class in a textual format\n",
    "def print_class_distribution(y, class_names):\n",
    "    unique, counts = np.unique(y, return_counts=True)\n",
    "    print(\"Class Distribution:\")\n",
    "    for i, class_id in enumerate(unique):\n",
    "        print(f\"{class_names[class_id]}: {counts[i]} samples\")\n",
    "        \n",
    "# Class distribution\n",
    "def plot_class_distribution(y, class_names):\n",
    "    unique, counts = np.unique(y, return_counts=True)\n",
    "    plt.bar(class_names, counts)\n",
    "    plt.title('Class Distribution')\n",
    "    plt.show()\n",
    "\n",
    "\n",
    "# Analyze variance of pixel values within classes\n",
    "def analyze_variance_within_classes(x, y):\n",
    "    unique = np.unique(y)\n",
    "    for class_id in unique:\n",
    "        class_indices = np.where(y == class_id)\n",
    "        class_variance = np.var(x[class_indices])\n",
    "        print(f\"Variance for class {class_id}: {class_variance}\")\n",
    "\n",
    "# Function to detect and correct skew in images\n",
    "def correct_skew(image):\n",
    "    # Assuming image is a numpy array for a single image\n",
    "    # Placeholder function: Implement actual skew correction logic here\n",
    "    corrected_image = image  # This should be replaced with actual correction code\n",
    "    return corrected_image\n",
    "\n",
    "# Main function to run the enhanced analysis\n",
    "def main():\n",
    "    x_train_path = '../../data/X_train.npy'\n",
    "    y_train_path = '../../data/Y_train.npy'\n",
    "    \n",
    "    class_names = ['Atelectasis', 'Effusion', 'Infiltration', 'Healthy', 'Nodule', 'Pneumothorax']\n",
    "    \n",
    "    x_train, y_train = load_data(x_train_path, y_train_path)\n",
    "    \n",
    "    plot_sample_images_by_class(x_train, y_train, class_names)\n",
    "    plot_class_distribution(y_train, class_names)\n",
    "\n",
    "    plot_pixel_intensity_histogram(x_train)\n",
    "    explain_histogram_importance()\n",
    "    print_class_distribution(y_train, class_names)\n",
    "    analyze_variance_within_classes(x_train, y_train)\n",
    "\n",
    "if __name__ == \"__main__\":\n",
    "    main()\n"
   ]
  },
  {
   "cell_type": "code",
   "execution_count": null,
   "metadata": {},
   "outputs": [],
   "source": []
  }
 ],
 "metadata": {
  "kernelspec": {
   "display_name": "Python 3",
   "language": "python",
   "name": "python3"
  },
  "language_info": {
   "codemirror_mode": {
    "name": "ipython",
    "version": 3
   },
   "file_extension": ".py",
   "mimetype": "text/x-python",
   "name": "python",
   "nbconvert_exporter": "python",
   "pygments_lexer": "ipython3",
   "version": "3.10.13"
  }
 },
 "nbformat": 4,
 "nbformat_minor": 5
}
